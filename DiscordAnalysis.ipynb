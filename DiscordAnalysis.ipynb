{
 "cells": [
  {
   "cell_type": "code",
   "execution_count": 2,
   "metadata": {},
   "outputs": [
    {
     "name": "stdout",
     "output_type": "stream",
     "text": [
      "Bot is ready\n",
      "491 messages fetched and written to messages.txt\n"
     ]
    }
   ],
   "source": [
    "import nest_asyncio  # to enable nested async event loops\n",
    "nest_asyncio.apply()\n",
    "\n",
    "import discord\n",
    "from discord.ext import commands\n",
    "\n",
    "PAGE_SIZE = 1000  # limit amount of messages per request\n",
    "\n",
    "TOKEN = 'My Bot Token'\n",
    "CHANNEL_ID = 1234567890  # replace with your channel id\n",
    "\n",
    "intents = discord.Intents.all()\n",
    "bot = commands.Bot(command_prefix='!', intents=intents)\n",
    "\n",
    "\n",
    "@bot.event\n",
    "async def on_ready():\n",
    "    print('Bot is ready')\n",
    "    \n",
    "    # fetch channel\n",
    "    channel = bot.get_channel(CHANNEL_ID)\n",
    "\n",
    "    # fetch message history\n",
    "    messages = []\n",
    "    async for message in channel.history(limit=PAGE_SIZE):\n",
    "        messages.append(message.content)  # here we're only getting message content\n",
    "\n",
    "    # write messages to a text file\n",
    "    with open('messages.txt', 'w', encoding='utf-8') as f:\n",
    "        for msg in messages:\n",
    "            f.write(f\"{msg}\\n\")  \n",
    "\n",
    "    print(f'{len(messages)} messages fetched and written to messages.txt')\n",
    "\n",
    "    await bot.close()  # close the bot after the task\n",
    "\n",
    "# Run bot\n",
    "await bot.start(TOKEN)\n"
   ]
  },
  {
   "cell_type": "code",
   "execution_count": 3,
   "metadata": {},
   "outputs": [
    {
     "name": "stderr",
     "output_type": "stream",
     "text": [
      "[nltk_data] Downloading package punkt to /Users/nemaaa/nltk_data...\n",
      "[nltk_data]   Package punkt is already up-to-date!\n",
      "[nltk_data] Downloading package stopwords to\n",
      "[nltk_data]     /Users/nemaaa/nltk_data...\n",
      "[nltk_data]   Package stopwords is already up-to-date!\n"
     ]
    }
   ],
   "source": [
    "import nltk\n",
    "from nltk.corpus import stopwords\n",
    "from nltk.stem import PorterStemmer\n",
    "from nltk.tokenize import word_tokenize, sent_tokenize\n",
    "\n",
    "nltk.download('punkt')\n",
    "nltk.download('stopwords')\n",
    "\n",
    "stop_words = set(stopwords.words('english'))\n",
    "stemmer = PorterStemmer()\n",
    "\n",
    "def preprocess_text(text):\n",
    "    tokenized = word_tokenize(text)\n",
    "    cleaned = [stemmer.stem(word) for word in tokenized if word not in stop_words]\n",
    "    return cleaned\n"
   ]
  },
  {
   "cell_type": "code",
   "execution_count": 4,
   "metadata": {},
   "outputs": [],
   "source": [
    "from textblob import TextBlob\n",
    "\n",
    "def analyze_sentiment(text):\n",
    "    return TextBlob(text).sentiment.polarity\n"
   ]
  },
  {
   "cell_type": "code",
   "execution_count": 5,
   "metadata": {},
   "outputs": [],
   "source": [
    "def interpret_results(sentiments):\n",
    "    if len(sentiments) == 0:\n",
    "        return 'The sentiments list is empty'\n",
    "    else:\n",
    "        return sum(sentiments) / len(sentiments)\n"
   ]
  },
  {
   "cell_type": "code",
   "execution_count": 7,
   "metadata": {},
   "outputs": [
    {
     "name": "stderr",
     "output_type": "stream",
     "text": [
      "Unclosed client session\n",
      "client_session: <aiohttp.client.ClientSession object at 0x10c871220>\n"
     ]
    },
    {
     "name": "stdout",
     "output_type": "stream",
     "text": [
      "The average sentiment is: 0.1343093793560551\n"
     ]
    }
   ],
   "source": [
    "with open('messages.txt', 'r', encoding='utf-8') as f:\n",
    "    messages_from_file = f.readlines()\n",
    "\n",
    "# Strip newlines\n",
    "messages_from_file = [message.strip() for message in messages_from_file]\n",
    "\n",
    "sentiments = [analyze_sentiment(message) for message in messages_from_file]\n",
    "\n",
    "average_sentiment = interpret_results(sentiments)\n",
    "print(f'The average sentiment is: {average_sentiment}')\n",
    "\n"
   ]
  },
  {
   "cell_type": "code",
   "execution_count": 8,
   "metadata": {},
   "outputs": [
    {
     "data": {
      "image/png": "[encoded data removed]",
      "text/plain": [
       "<Figure size 640x480 with 1 Axes>"
      ]
     },
     "metadata": {},
     "output_type": "display_data"
    }
   ],
   "source": [
    "import matplotlib.pyplot as plt\n",
    "\n",
    "plt.hist(sentiments, bins=20, range=(-1,1))    # make a histogram with 20 bins\n",
    "plt.title('Sentiment Distribution of Messages') # title for the histogram\n",
    "plt.xlabel('Sentiment')    # label for x-axis\n",
    "plt.ylabel('Message Count')    # label for y-axis\n",
    "plt.show()    # display the histogram\n"
   ]
  }
 ],
 "metadata": {
  "kernelspec": {
   "display_name": "Python 3",
   "language": "python",
   "name": "python3"
  },
  "language_info": {
   "codemirror_mode": {
    "name": "ipython",
    "version": 3
   },
   "file_extension": ".py",
   "mimetype": "text/x-python",
   "name": "python",
   "nbconvert_exporter": "python",
   "pygments_lexer": "ipython3",
   "version": "3.9.6"
  }
 },
 "nbformat": 4,
 "nbformat_minor": 2
}
